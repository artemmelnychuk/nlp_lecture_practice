{
 "cells": [
  {
   "cell_type": "code",
   "execution_count": 1,
   "metadata": {},
   "outputs": [
    {
     "ename": "SyntaxError",
     "evalue": "unterminated string literal (detected at line 31) (1860516073.py, line 31)",
     "output_type": "error",
     "traceback": [
      "\u001b[0;36m  Cell \u001b[0;32mIn[1], line 31\u001b[0;36m\u001b[0m\n\u001b[0;31m    print(f\"Global minimum cut is {format_partitioning(min_cut)} at cost {min\u001b[0m\n\u001b[0m          ^\u001b[0m\n\u001b[0;31mSyntaxError\u001b[0m\u001b[0;31m:\u001b[0m unterminated string literal (detected at line 31)\n"
     ]
    }
   ],
   "source": [
    "import numpy as np\n",
    "from scipy.sparse import coo_matrix\n",
    "from itertools import product\n",
    "\n",
    "def laplacian(matrix):\n",
    "    degree = np.sum(matrix, axis=1)\n",
    "    laplacian_matrix = np.diag(degree) - matrix\n",
    "    return laplacian_matrix\n",
    "\n",
    "# Define edges and construct the adjacency matrix\n",
    "edges = np.array([(0, 1, 2), (0, 3, 2), (1, 2, 4), (1, 3, 2),\n",
    "                  (2, 3, 1), (2, 4, 3), (2, 5, 4), (2, 6, 4),\n",
    "                  (4, 5, 2), (5, 6, 1)]).T\n",
    "A = coo_matrix((edges[2], (edges[0], edges[1])), shape=(7, 7))\n",
    "A = A.toarray()\n",
    "A = A + A.T\n",
    "\n",
    "# Calculate the Laplacian matrix\n",
    "L = laplacian(A)\n",
    "\n",
    "# Generate all combinations of partitions and calculate their cut costs\n",
    "fs = [((f := np.array(f)) @ L @ f / 4, f) for f in product([-1, 1], repeat=A.shape[0]) if len(set(f)) > 1]\n",
    "\n",
    "# Find the minimum cost and corresponding cut\n",
    "min_cost, min_cut = min(fs, key=lambda f: f[0])\n",
    "\n",
    "def format_partitioning(cut):\n",
    "    return ', '.join(str(int((x + 1) / 2)) for x in cut)\n",
    "\n",
    "# Print the global minimum cut and its cost\n",
    "print(f\"Global minimum cut is {format_partitioning(min_cut)} at cost {min"
   ]
  },
  {
   "cell_type": "code",
   "execution_count": null,
   "metadata": {},
   "outputs": [],
   "source": []
  }
 ],
 "metadata": {
  "kernelspec": {
   "display_name": ".venv",
   "language": "python",
   "name": "python3"
  },
  "language_info": {
   "codemirror_mode": {
    "name": "ipython",
    "version": 3
   },
   "file_extension": ".py",
   "mimetype": "text/x-python",
   "name": "python",
   "nbconvert_exporter": "python",
   "pygments_lexer": "ipython3",
   "version": "3.10.12"
  }
 },
 "nbformat": 4,
 "nbformat_minor": 2
}
